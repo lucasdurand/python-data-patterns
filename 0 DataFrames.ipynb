{
 "cells": [
  {
   "cell_type": "markdown",
   "metadata": {},
   "source": [
    "# Data + Python\n",
    "\n",
    "Advanced methods for the desperate data practitioner "
   ]
  },
  {
   "cell_type": "code",
   "execution_count": 39,
   "metadata": {},
   "outputs": [],
   "source": [
    "# coopl thing -- \"contextual help\" in jlab"
   ]
  },
  {
   "cell_type": "code",
   "execution_count": 9,
   "metadata": {},
   "outputs": [],
   "source": [
    "import buckaroo\n",
    "from buckaroo.buckaroo_widget import BuckarooWidget # manually view\n",
    "buckaroo.disable() # multi-indexes don't show\n"
   ]
  },
  {
   "cell_type": "markdown",
   "metadata": {},
   "source": [
    "## Pandas\n"
   ]
  },
  {
   "cell_type": "code",
   "execution_count": 36,
   "metadata": {},
   "outputs": [],
   "source": [
    "import pandas as pd\n",
    "\n",
    "df = pd.read_parquet(\"companies.parquet\")"
   ]
  },
  {
   "cell_type": "code",
   "execution_count": 10,
   "metadata": {},
   "outputs": [
    {
     "data": {
      "text/html": [
       "<div>\n",
       "<style scoped>\n",
       "    .dataframe tbody tr th:only-of-type {\n",
       "        vertical-align: middle;\n",
       "    }\n",
       "\n",
       "    .dataframe tbody tr th {\n",
       "        vertical-align: top;\n",
       "    }\n",
       "\n",
       "    .dataframe thead th {\n",
       "        text-align: right;\n",
       "    }\n",
       "</style>\n",
       "<table border=\"1\" class=\"dataframe\">\n",
       "  <thead>\n",
       "    <tr style=\"text-align: right;\">\n",
       "      <th></th>\n",
       "      <th>Unnamed:_0</th>\n",
       "      <th>name</th>\n",
       "      <th>domain</th>\n",
       "      <th>year_founded</th>\n",
       "      <th>industry</th>\n",
       "      <th>size_range</th>\n",
       "      <th>locality</th>\n",
       "      <th>country</th>\n",
       "      <th>linkedin_url</th>\n",
       "      <th>current_employee_estimate</th>\n",
       "      <th>total_employee_estimate</th>\n",
       "      <th>tld</th>\n",
       "    </tr>\n",
       "  </thead>\n",
       "  <tbody>\n",
       "    <tr>\n",
       "      <th>0</th>\n",
       "      <td>5872184</td>\n",
       "      <td>ibm</td>\n",
       "      <td>ibm.com</td>\n",
       "      <td>1911</td>\n",
       "      <td>information technology and services</td>\n",
       "      <td>10001+</td>\n",
       "      <td>new york, new york, united states</td>\n",
       "      <td>united states</td>\n",
       "      <td>linkedin.com/company/ibm</td>\n",
       "      <td>274047</td>\n",
       "      <td>716906</td>\n",
       "      <td>com</td>\n",
       "    </tr>\n",
       "    <tr>\n",
       "      <th>1</th>\n",
       "      <td>4425416</td>\n",
       "      <td>tata consultancy services</td>\n",
       "      <td>tcs.com</td>\n",
       "      <td>1968</td>\n",
       "      <td>information technology and services</td>\n",
       "      <td>10001+</td>\n",
       "      <td>bombay, maharashtra, india</td>\n",
       "      <td>india</td>\n",
       "      <td>linkedin.com/company/tata-consultancy-services</td>\n",
       "      <td>190771</td>\n",
       "      <td>341369</td>\n",
       "      <td>com</td>\n",
       "    </tr>\n",
       "    <tr>\n",
       "      <th>2</th>\n",
       "      <td>21074</td>\n",
       "      <td>accenture</td>\n",
       "      <td>accenture.com</td>\n",
       "      <td>1989</td>\n",
       "      <td>information technology and services</td>\n",
       "      <td>10001+</td>\n",
       "      <td>dublin, dublin, ireland</td>\n",
       "      <td>ireland</td>\n",
       "      <td>linkedin.com/company/accenture</td>\n",
       "      <td>190689</td>\n",
       "      <td>455768</td>\n",
       "      <td>com</td>\n",
       "    </tr>\n",
       "    <tr>\n",
       "      <th>3</th>\n",
       "      <td>2309813</td>\n",
       "      <td>us army</td>\n",
       "      <td>goarmy.com</td>\n",
       "      <td>1800</td>\n",
       "      <td>military</td>\n",
       "      <td>10001+</td>\n",
       "      <td>alexandria, virginia, united states</td>\n",
       "      <td>united states</td>\n",
       "      <td>linkedin.com/company/us-army</td>\n",
       "      <td>162163</td>\n",
       "      <td>445958</td>\n",
       "      <td>com</td>\n",
       "    </tr>\n",
       "    <tr>\n",
       "      <th>4</th>\n",
       "      <td>1558607</td>\n",
       "      <td>ey</td>\n",
       "      <td>ey.com</td>\n",
       "      <td>1989</td>\n",
       "      <td>accounting</td>\n",
       "      <td>10001+</td>\n",
       "      <td>london, greater london, united kingdom</td>\n",
       "      <td>united kingdom</td>\n",
       "      <td>linkedin.com/company/ernstandyoung</td>\n",
       "      <td>158363</td>\n",
       "      <td>428960</td>\n",
       "      <td>com</td>\n",
       "    </tr>\n",
       "    <tr>\n",
       "      <th>...</th>\n",
       "      <td>...</td>\n",
       "      <td>...</td>\n",
       "      <td>...</td>\n",
       "      <td>...</td>\n",
       "      <td>...</td>\n",
       "      <td>...</td>\n",
       "      <td>...</td>\n",
       "      <td>...</td>\n",
       "      <td>...</td>\n",
       "      <td>...</td>\n",
       "      <td>...</td>\n",
       "      <td>...</td>\n",
       "    </tr>\n",
       "    <tr>\n",
       "      <th>7173404</th>\n",
       "      <td>5101935</td>\n",
       "      <td>squad sp. z o. o.</td>\n",
       "      <td>squad.com.pl</td>\n",
       "      <td>2013</td>\n",
       "      <td>internet</td>\n",
       "      <td>1 - 10</td>\n",
       "      <td>litzmannstadt, lodzkie, poland</td>\n",
       "      <td>poland</td>\n",
       "      <td>linkedin.com/company/squad-sp.-z-o.-o.</td>\n",
       "      <td>0</td>\n",
       "      <td>1</td>\n",
       "      <td>com</td>\n",
       "    </tr>\n",
       "    <tr>\n",
       "      <th>7173411</th>\n",
       "      <td>4768458</td>\n",
       "      <td>fuller, hadeed, &amp; ros-planas, pllc</td>\n",
       "      <td>fhrlaw.com</td>\n",
       "      <td>2015</td>\n",
       "      <td>law practice</td>\n",
       "      <td>1 - 10</td>\n",
       "      <td>virginia beach, virginia, united states</td>\n",
       "      <td>united states</td>\n",
       "      <td>linkedin.com/company/fhrlaw</td>\n",
       "      <td>0</td>\n",
       "      <td>2</td>\n",
       "      <td>com</td>\n",
       "    </tr>\n",
       "    <tr>\n",
       "      <th>7173416</th>\n",
       "      <td>3515286</td>\n",
       "      <td>fit plus s.r.o.</td>\n",
       "      <td>fitplus.sk</td>\n",
       "      <td>1993</td>\n",
       "      <td>health, wellness and fitness</td>\n",
       "      <td>1 - 10</td>\n",
       "      <td>bratislava, bratislavský, slovakia</td>\n",
       "      <td>slovakia</td>\n",
       "      <td>linkedin.com/company/fit-plus-s.r.o.</td>\n",
       "      <td>0</td>\n",
       "      <td>1</td>\n",
       "      <td>sk</td>\n",
       "    </tr>\n",
       "    <tr>\n",
       "      <th>7173417</th>\n",
       "      <td>5481997</td>\n",
       "      <td>coriex srl</td>\n",
       "      <td>coriex.it</td>\n",
       "      <td>1987</td>\n",
       "      <td>apparel &amp; fashion</td>\n",
       "      <td>1 - 10</td>\n",
       "      <td>padova, veneto, italy</td>\n",
       "      <td>italy</td>\n",
       "      <td>linkedin.com/company/coriex-srl</td>\n",
       "      <td>0</td>\n",
       "      <td>4</td>\n",
       "      <td>it</td>\n",
       "    </tr>\n",
       "    <tr>\n",
       "      <th>7173422</th>\n",
       "      <td>1494429</td>\n",
       "      <td>black tiger fight club</td>\n",
       "      <td>blacktigerclub.com</td>\n",
       "      <td>2006</td>\n",
       "      <td>health, wellness and fitness</td>\n",
       "      <td>1 - 10</td>\n",
       "      <td>peking, beijing, china</td>\n",
       "      <td>china</td>\n",
       "      <td>linkedin.com/company/black-tiger-club-hero</td>\n",
       "      <td>0</td>\n",
       "      <td>6</td>\n",
       "      <td>com</td>\n",
       "    </tr>\n",
       "  </tbody>\n",
       "</table>\n",
       "<p>2772924 rows × 12 columns</p>\n",
       "</div>"
      ],
      "text/plain": [
       "         Unnamed:_0                                name              domain  \\\n",
       "0           5872184                                 ibm             ibm.com   \n",
       "1           4425416           tata consultancy services             tcs.com   \n",
       "2             21074                           accenture       accenture.com   \n",
       "3           2309813                             us army          goarmy.com   \n",
       "4           1558607                                  ey              ey.com   \n",
       "...             ...                                 ...                 ...   \n",
       "7173404     5101935                   squad sp. z o. o.        squad.com.pl   \n",
       "7173411     4768458  fuller, hadeed, & ros-planas, pllc          fhrlaw.com   \n",
       "7173416     3515286                     fit plus s.r.o.          fitplus.sk   \n",
       "7173417     5481997                          coriex srl           coriex.it   \n",
       "7173422     1494429              black tiger fight club  blacktigerclub.com   \n",
       "\n",
       "         year_founded                             industry size_range  \\\n",
       "0                1911  information technology and services     10001+   \n",
       "1                1968  information technology and services     10001+   \n",
       "2                1989  information technology and services     10001+   \n",
       "3                1800                             military     10001+   \n",
       "4                1989                           accounting     10001+   \n",
       "...               ...                                  ...        ...   \n",
       "7173404          2013                             internet     1 - 10   \n",
       "7173411          2015                         law practice     1 - 10   \n",
       "7173416          1993         health, wellness and fitness     1 - 10   \n",
       "7173417          1987                    apparel & fashion     1 - 10   \n",
       "7173422          2006         health, wellness and fitness     1 - 10   \n",
       "\n",
       "                                        locality         country  \\\n",
       "0              new york, new york, united states   united states   \n",
       "1                     bombay, maharashtra, india           india   \n",
       "2                        dublin, dublin, ireland         ireland   \n",
       "3            alexandria, virginia, united states   united states   \n",
       "4         london, greater london, united kingdom  united kingdom   \n",
       "...                                          ...             ...   \n",
       "7173404           litzmannstadt, lodzkie, poland          poland   \n",
       "7173411  virginia beach, virginia, united states   united states   \n",
       "7173416       bratislava, bratislavský, slovakia        slovakia   \n",
       "7173417                    padova, veneto, italy           italy   \n",
       "7173422                   peking, beijing, china           china   \n",
       "\n",
       "                                           linkedin_url  \\\n",
       "0                              linkedin.com/company/ibm   \n",
       "1        linkedin.com/company/tata-consultancy-services   \n",
       "2                        linkedin.com/company/accenture   \n",
       "3                          linkedin.com/company/us-army   \n",
       "4                    linkedin.com/company/ernstandyoung   \n",
       "...                                                 ...   \n",
       "7173404          linkedin.com/company/squad-sp.-z-o.-o.   \n",
       "7173411                     linkedin.com/company/fhrlaw   \n",
       "7173416            linkedin.com/company/fit-plus-s.r.o.   \n",
       "7173417                 linkedin.com/company/coriex-srl   \n",
       "7173422      linkedin.com/company/black-tiger-club-hero   \n",
       "\n",
       "         current_employee_estimate  total_employee_estimate  tld  \n",
       "0                           274047                   716906  com  \n",
       "1                           190771                   341369  com  \n",
       "2                           190689                   455768  com  \n",
       "3                           162163                   445958  com  \n",
       "4                           158363                   428960  com  \n",
       "...                            ...                      ...  ...  \n",
       "7173404                          0                        1  com  \n",
       "7173411                          0                        2  com  \n",
       "7173416                          0                        1   sk  \n",
       "7173417                          0                        4   it  \n",
       "7173422                          0                        6  com  \n",
       "\n",
       "[2772924 rows x 12 columns]"
      ]
     },
     "execution_count": 10,
     "metadata": {},
     "output_type": "execute_result"
    }
   ],
   "source": [
    "df"
   ]
  },
  {
   "cell_type": "code",
   "execution_count": 37,
   "metadata": {},
   "outputs": [],
   "source": [
    "df.columns = df.columns.str.replace(\" \", \"_\")\n",
    "# Ensure no null values are present in `year_founded` column\n",
    "df = df[df.year_founded.notnull() & df.country.notnull()]\n",
    "# Cast year_founded as int\n",
    "df.year_founded = df.year_founded.astype(int)\n",
    "# Extract top-level domain\n",
    "df[\"tld\"]=df.domain.str.rsplit(\".\").str[1]"
   ]
  },
  {
   "cell_type": "code",
   "execution_count": 38,
   "metadata": {},
   "outputs": [
    {
     "data": {
      "text/plain": [
       "tld\n",
       "com         1662048\n",
       "co           167584\n",
       "org          138624\n",
       "nl            82495\n",
       "net           64933\n",
       "             ...   \n",
       "trentino          1\n",
       "idrett            1\n",
       "komatsu           1\n",
       "iwi               1\n",
       "zt                1\n",
       "Name: count, Length: 951, dtype: int64"
      ]
     },
     "execution_count": 38,
     "metadata": {},
     "output_type": "execute_result"
    }
   ],
   "source": [
    "df.tld.value_counts()"
   ]
  },
  {
   "cell_type": "code",
   "execution_count": 15,
   "metadata": {},
   "outputs": [
    {
     "data": {
      "text/plain": [
       "tld      country       \n",
       "a        sweden              1\n",
       "ab       canada            129\n",
       "         united kingdom      1\n",
       "abbott   united states       1\n",
       "abogado  spain               2\n",
       "                          ... \n",
       "zp       italy               1\n",
       "         ukraine             5\n",
       "zt       ukraine             1\n",
       "рф       russia              4\n",
       "укр      ukraine             1\n",
       "Name: domain, Length: 11945, dtype: int64"
      ]
     },
     "execution_count": 15,
     "metadata": {},
     "output_type": "execute_result"
    }
   ],
   "source": [
    "df.groupby(by=[\"tld\",\"country\"]).domain.count()"
   ]
  },
  {
   "cell_type": "code",
   "execution_count": 41,
   "metadata": {},
   "outputs": [],
   "source": [
    "# for later\n",
    "pandas_df = df.copy()"
   ]
  },
  {
   "cell_type": "markdown",
   "metadata": {},
   "source": [
    "## Polars\n",
    "\n",
    "The goal of Polars is to provide a lightning fast DataFrame library that:\n",
    "\n",
    "* Utilizes all available cores on your machine.\n",
    "* Optimizes queries to reduce unneeded work/memory allocations.\n",
    "* Handles datasets much larger than your available RAM.\n",
    "* Has an API that is consistent and predictable.\n",
    "* Has a strict schema (data-types should be known before running the query).\n",
    "* Polars is written in Rust which gives it C/C++ performance and allows it to fully control performance critical parts in a query engine.\n",
    "\n",
    "As such Polars goes to great lengths to:\n",
    "\n",
    "* Reduce redundant copies.\n",
    "* Traverse memory cache efficiently.\n",
    "* Minimize contention in parallelism.\n",
    "* Process data in chunks.\n",
    "* Reuse memory allocations."
   ]
  },
  {
   "cell_type": "code",
   "execution_count": 42,
   "metadata": {},
   "outputs": [],
   "source": [
    "import polars as pl\n",
    "\n",
    "df = pl.scan_parquet(\"companies.parquet\")\n",
    "df = df.rename(mapping={col:col.replace(\" \", \"_\") for col in df.columns})\n",
    "# Cast year_founded as int\n",
    "df = (\n",
    "    df.with_columns(pl.col(\"year_founded\").cast(pl.Int32, strict=True))\n",
    "    .rename({\"Unnamed:_0\": \"company_id\"})\n",
    "    .filter(pl.col(\"country\").is_not_null() & pl.col(\"year_founded\").is_not_null())\n",
    ")\n",
    "df = (\n",
    "    df.with_columns(pl.col(\"domain\").str.split(\".\").list.last().alias(\"tld\"))\n",
    ")"
   ]
  },
  {
   "cell_type": "code",
   "execution_count": 43,
   "metadata": {},
   "outputs": [
    {
     "data": {
      "text/plain": [
       "' WITH_COLUMNS:\\n [col(\"domain\").str.split([Utf8(.)]).list.get([-1]).alias(\"tld\")]\\n  RENAME\\n    DROP_NULLS by: [country, year_founded]\\n       WITH_COLUMNS:\\n       [col(\"year_founded\").strict_cast(Int32)]\\n        RENAME\\n\\n            Parquet SCAN companies.parquet\\n            PROJECT */11 COLUMNS'"
      ]
     },
     "execution_count": 43,
     "metadata": {},
     "output_type": "execute_result"
    }
   ],
   "source": [
    "df.explain()"
   ]
  },
  {
   "cell_type": "code",
   "execution_count": 19,
   "metadata": {},
   "outputs": [
    {
     "data": {
      "text/html": [
       "<div><style>\n",
       ".dataframe > thead > tr > th,\n",
       ".dataframe > tbody > tr > td {\n",
       "  text-align: right;\n",
       "  white-space: pre-wrap;\n",
       "}\n",
       "</style>\n",
       "<small>shape: (5, 12)</small><table border=\"1\" class=\"dataframe\"><thead><tr><th>company_id</th><th>name</th><th>domain</th><th>year_founded</th><th>industry</th><th>size_range</th><th>locality</th><th>country</th><th>linkedin_url</th><th>current_employee_estimate</th><th>total_employee_estimate</th><th>tld</th></tr><tr><td>i64</td><td>str</td><td>str</td><td>i32</td><td>str</td><td>str</td><td>str</td><td>str</td><td>str</td><td>i64</td><td>i64</td><td>str</td></tr></thead><tbody><tr><td>5872184</td><td>&quot;ibm&quot;</td><td>&quot;ibm.com&quot;</td><td>1911</td><td>&quot;information te…</td><td>&quot;10001+&quot;</td><td>&quot;new york, new …</td><td>&quot;united states&quot;</td><td>&quot;linkedin.com/c…</td><td>274047</td><td>716906</td><td>&quot;com&quot;</td></tr><tr><td>4425416</td><td>&quot;tata consultan…</td><td>&quot;tcs.com&quot;</td><td>1968</td><td>&quot;information te…</td><td>&quot;10001+&quot;</td><td>&quot;bombay, mahara…</td><td>&quot;india&quot;</td><td>&quot;linkedin.com/c…</td><td>190771</td><td>341369</td><td>&quot;com&quot;</td></tr><tr><td>21074</td><td>&quot;accenture&quot;</td><td>&quot;accenture.com&quot;</td><td>1989</td><td>&quot;information te…</td><td>&quot;10001+&quot;</td><td>&quot;dublin, dublin…</td><td>&quot;ireland&quot;</td><td>&quot;linkedin.com/c…</td><td>190689</td><td>455768</td><td>&quot;com&quot;</td></tr><tr><td>2309813</td><td>&quot;us army&quot;</td><td>&quot;goarmy.com&quot;</td><td>1800</td><td>&quot;military&quot;</td><td>&quot;10001+&quot;</td><td>&quot;alexandria, vi…</td><td>&quot;united states&quot;</td><td>&quot;linkedin.com/c…</td><td>162163</td><td>445958</td><td>&quot;com&quot;</td></tr><tr><td>1558607</td><td>&quot;ey&quot;</td><td>&quot;ey.com&quot;</td><td>1989</td><td>&quot;accounting&quot;</td><td>&quot;10001+&quot;</td><td>&quot;london, greate…</td><td>&quot;united kingdom…</td><td>&quot;linkedin.com/c…</td><td>158363</td><td>428960</td><td>&quot;com&quot;</td></tr></tbody></table></div>"
      ],
      "text/plain": [
       "shape: (5, 12)\n",
       "┌────────────┬────────────┬────────────┬────────────┬───┬────────────┬───────────┬───────────┬─────┐\n",
       "│ company_id ┆ name       ┆ domain     ┆ year_found ┆ … ┆ linkedin_u ┆ current_e ┆ total_emp ┆ tld │\n",
       "│ ---        ┆ ---        ┆ ---        ┆ ed         ┆   ┆ rl         ┆ mployee_e ┆ loyee_est ┆ --- │\n",
       "│ i64        ┆ str        ┆ str        ┆ ---        ┆   ┆ ---        ┆ stimate   ┆ imate     ┆ str │\n",
       "│            ┆            ┆            ┆ i32        ┆   ┆ str        ┆ ---       ┆ ---       ┆     │\n",
       "│            ┆            ┆            ┆            ┆   ┆            ┆ i64       ┆ i64       ┆     │\n",
       "╞════════════╪════════════╪════════════╪════════════╪═══╪════════════╪═══════════╪═══════════╪═════╡\n",
       "│ 5872184    ┆ ibm        ┆ ibm.com    ┆ 1911       ┆ … ┆ linkedin.c ┆ 274047    ┆ 716906    ┆ com │\n",
       "│            ┆            ┆            ┆            ┆   ┆ om/company ┆           ┆           ┆     │\n",
       "│            ┆            ┆            ┆            ┆   ┆ /ibm       ┆           ┆           ┆     │\n",
       "│ 4425416    ┆ tata consu ┆ tcs.com    ┆ 1968       ┆ … ┆ linkedin.c ┆ 190771    ┆ 341369    ┆ com │\n",
       "│            ┆ ltancy     ┆            ┆            ┆   ┆ om/company ┆           ┆           ┆     │\n",
       "│            ┆ services   ┆            ┆            ┆   ┆ /tata-cons ┆           ┆           ┆     │\n",
       "│            ┆            ┆            ┆            ┆   ┆ ul…        ┆           ┆           ┆     │\n",
       "│ 21074      ┆ accenture  ┆ accenture. ┆ 1989       ┆ … ┆ linkedin.c ┆ 190689    ┆ 455768    ┆ com │\n",
       "│            ┆            ┆ com        ┆            ┆   ┆ om/company ┆           ┆           ┆     │\n",
       "│            ┆            ┆            ┆            ┆   ┆ /accenture ┆           ┆           ┆     │\n",
       "│ 2309813    ┆ us army    ┆ goarmy.com ┆ 1800       ┆ … ┆ linkedin.c ┆ 162163    ┆ 445958    ┆ com │\n",
       "│            ┆            ┆            ┆            ┆   ┆ om/company ┆           ┆           ┆     │\n",
       "│            ┆            ┆            ┆            ┆   ┆ /us-army   ┆           ┆           ┆     │\n",
       "│ 1558607    ┆ ey         ┆ ey.com     ┆ 1989       ┆ … ┆ linkedin.c ┆ 158363    ┆ 428960    ┆ com │\n",
       "│            ┆            ┆            ┆            ┆   ┆ om/company ┆           ┆           ┆     │\n",
       "│            ┆            ┆            ┆            ┆   ┆ /ernstandy ┆           ┆           ┆     │\n",
       "│            ┆            ┆            ┆            ┆   ┆ ou…        ┆           ┆           ┆     │\n",
       "└────────────┴────────────┴────────────┴────────────┴───┴────────────┴───────────┴───────────┴─────┘"
      ]
     },
     "execution_count": 19,
     "metadata": {},
     "output_type": "execute_result"
    }
   ],
   "source": [
    "df.head().collect()"
   ]
  },
  {
   "cell_type": "code",
   "execution_count": 32,
   "metadata": {},
   "outputs": [
    {
     "data": {
      "text/html": [
       "<div><style>\n",
       ".dataframe > thead > tr > th,\n",
       ".dataframe > tbody > tr > td {\n",
       "  text-align: right;\n",
       "  white-space: pre-wrap;\n",
       "}\n",
       "</style>\n",
       "<small>shape: (12_202, 3)</small><table border=\"1\" class=\"dataframe\"><thead><tr><th>tld</th><th>country</th><th>domain</th></tr><tr><td>str</td><td>str</td><td>u32</td></tr></thead><tbody><tr><td>&quot;com&quot;</td><td>&quot;united kingdom…</td><td>93390</td></tr><tr><td>&quot;br&quot;</td><td>&quot;brazil&quot;</td><td>61737</td></tr><tr><td>&quot;com&quot;</td><td>&quot;turkey&quot;</td><td>16643</td></tr><tr><td>&quot;com&quot;</td><td>&quot;united arab em…</td><td>10683</td></tr><tr><td>&quot;com&quot;</td><td>&quot;italy&quot;</td><td>23607</td></tr><tr><td>&quot;com&quot;</td><td>&quot;algeria&quot;</td><td>655</td></tr><tr><td>&quot;com&quot;</td><td>&quot;qatar&quot;</td><td>1025</td></tr><tr><td>&quot;com&quot;</td><td>&quot;singapore&quot;</td><td>7137</td></tr><tr><td>&quot;com&quot;</td><td>&quot;hong kong&quot;</td><td>3721</td></tr><tr><td>&quot;tr&quot;</td><td>&quot;turkey&quot;</td><td>10614</td></tr><tr><td>&quot;mx&quot;</td><td>&quot;united states&quot;</td><td>258</td></tr><tr><td>&quot;tw&quot;</td><td>&quot;united states&quot;</td><td>34</td></tr><tr><td>&hellip;</td><td>&hellip;</td><td>&hellip;</td></tr><tr><td>&quot;video&quot;</td><td>&quot;ireland&quot;</td><td>1</td></tr><tr><td>&quot;nz&quot;</td><td>&quot;south sudan&quot;</td><td>1</td></tr><tr><td>&quot;ni&quot;</td><td>&quot;united states&quot;</td><td>1</td></tr><tr><td>&quot;ru&quot;</td><td>&quot;argentina&quot;</td><td>1</td></tr><tr><td>&quot;ski&quot;</td><td>&quot;ireland&quot;</td><td>1</td></tr><tr><td>&quot;photos&quot;</td><td>&quot;israel&quot;</td><td>1</td></tr><tr><td>&quot;yt&quot;</td><td>&quot;poland&quot;</td><td>1</td></tr><tr><td>&quot;hr&quot;</td><td>&quot;sweden&quot;</td><td>1</td></tr><tr><td>&quot;fi&quot;</td><td>&quot;greenland&quot;</td><td>1</td></tr><tr><td>&quot;pt&quot;</td><td>&quot;paraguay&quot;</td><td>1</td></tr><tr><td>&quot;hr&quot;</td><td>&quot;slovenia&quot;</td><td>1</td></tr><tr><td>&quot;tech&quot;</td><td>&quot;bolivia&quot;</td><td>1</td></tr></tbody></table></div>"
      ],
      "text/plain": [
       "shape: (12_202, 3)\n",
       "┌──────┬──────────────────────┬────────┐\n",
       "│ tld  ┆ country              ┆ domain │\n",
       "│ ---  ┆ ---                  ┆ ---    │\n",
       "│ str  ┆ str                  ┆ u32    │\n",
       "╞══════╪══════════════════════╪════════╡\n",
       "│ com  ┆ united kingdom       ┆ 93390  │\n",
       "│ br   ┆ brazil               ┆ 61737  │\n",
       "│ com  ┆ turkey               ┆ 16643  │\n",
       "│ com  ┆ united arab emirates ┆ 10683  │\n",
       "│ …    ┆ …                    ┆ …      │\n",
       "│ fi   ┆ greenland            ┆ 1      │\n",
       "│ pt   ┆ paraguay             ┆ 1      │\n",
       "│ hr   ┆ slovenia             ┆ 1      │\n",
       "│ tech ┆ bolivia              ┆ 1      │\n",
       "└──────┴──────────────────────┴────────┘"
      ]
     },
     "execution_count": 32,
     "metadata": {},
     "output_type": "execute_result"
    }
   ],
   "source": [
    "df.group_by(by=[\"tld\",\"country\"]).agg(pl.col(\"domain\").count()).collect()"
   ]
  },
  {
   "cell_type": "code",
   "execution_count": 45,
   "metadata": {},
   "outputs": [],
   "source": [
    "polars_df = df"
   ]
  },
  {
   "cell_type": "markdown",
   "metadata": {},
   "source": [
    "## DuckDB"
   ]
  },
  {
   "cell_type": "code",
   "execution_count": 105,
   "metadata": {},
   "outputs": [
    {
     "data": {
      "text/plain": [
       "┌─────────┬────────────────────┬─────────────────┐\n",
       "│   tld   │      country       │ count(\"domain\") │\n",
       "│ varchar │      varchar       │      int64      │\n",
       "├─────────┼────────────────────┼─────────────────┤\n",
       "│ in      │ portugal           │               8 │\n",
       "│ it      │ italy              │           39994 │\n",
       "│ dk      │ denmark            │           15191 │\n",
       "│ com     │ czechia            │            1820 │\n",
       "│ com     │ new zealand        │            3031 │\n",
       "│ com     │ indonesia          │            6153 │\n",
       "│ es      │ spain              │           24033 │\n",
       "│ pt      │ portugal           │            8838 │\n",
       "│ org     │ canada             │            3240 │\n",
       "│ org     │ brazil             │            1633 │\n",
       "│  ·      │   ·                │               · │\n",
       "│  ·      │   ·                │               · │\n",
       "│  ·      │   ·                │               · │\n",
       "│ golf    │ netherlands        │               2 │\n",
       "│ today   │ india              │               4 │\n",
       "│ info    │ dominican republic │               1 │\n",
       "│ st      │ israel             │               1 │\n",
       "│ it      │ hong kong          │               9 │\n",
       "│ photo   │ italy              │               2 │\n",
       "│ net     │ kosovo             │               6 │\n",
       "│ me      │ oman               │               5 │\n",
       "│ click   │ spain              │               2 │\n",
       "│ st      │ romania            │               1 │\n",
       "├─────────┴────────────────────┴─────────────────┤\n",
       "│ ? rows (>9999 rows, 20 shown)        3 columns │\n",
       "└────────────────────────────────────────────────┘"
      ]
     },
     "execution_count": 105,
     "metadata": {},
     "output_type": "execute_result"
    }
   ],
   "source": [
    "import duckdb \n",
    "db = duckdb.connect(\":memory:\")\n",
    "db.sql(\"SELECT tld, country, count(domain) FROM pandas_df GROUP BY tld, country\")\n"
   ]
  },
  {
   "cell_type": "code",
   "execution_count": 104,
   "metadata": {},
   "outputs": [
    {
     "data": {
      "text/plain": [
       "┌─────────┬──────────────────────┬─────────────────┐\n",
       "│   tld   │       country        │ count(\"domain\") │\n",
       "│ varchar │       varchar        │      int64      │\n",
       "├─────────┼──────────────────────┼─────────────────┤\n",
       "│ com     │ austria              │            2522 │\n",
       "│ com     │ india                │           62357 │\n",
       "│ se      │ sweden               │           19051 │\n",
       "│ NULL    │ united states        │               0 │\n",
       "│ com     │ peru                 │            3970 │\n",
       "│ com     │ philippines          │            3339 │\n",
       "│ fr      │ france               │           30203 │\n",
       "│ io      │ estonia              │              66 │\n",
       "│ org     │ spain                │            2440 │\n",
       "│ de      │ germany              │           20972 │\n",
       "│ ·       │    ·                 │               · │\n",
       "│ ·       │    ·                 │               · │\n",
       "│ ·       │    ·                 │               · │\n",
       "│ xxx     │ czechia              │               1 │\n",
       "│ ai      │ hungary              │               3 │\n",
       "│ expert  │ canada               │               8 │\n",
       "│ al      │ turkey               │               1 │\n",
       "│ aero    │ mexico               │               5 │\n",
       "│ ru      │ venezuela            │               1 │\n",
       "│ za      │ morocco              │               1 │\n",
       "│ sg      │ south africa         │               1 │\n",
       "│ asia    │ israel               │               1 │\n",
       "│ ps      │ united arab emirates │               1 │\n",
       "├─────────┴──────────────────────┴─────────────────┤\n",
       "│ ? rows (>9999 rows, 20 shown)          3 columns │\n",
       "└──────────────────────────────────────────────────┘"
      ]
     },
     "execution_count": 104,
     "metadata": {},
     "output_type": "execute_result"
    }
   ],
   "source": [
    "db.sql(\"SELECT tld, country, count(domain) FROM polars_df GROUP BY tld, country\")"
   ]
  },
  {
   "cell_type": "markdown",
   "metadata": {},
   "source": [
    "### Natively"
   ]
  },
  {
   "cell_type": "code",
   "execution_count": 133,
   "metadata": {},
   "outputs": [
    {
     "data": {
      "text/plain": [
       "'SELECT \"Unnamed: 0\" AS company_id, \"name\" AS \"name\", \"domain\" AS \"domain\", \"year founded\" AS year_founded, industry AS industry, \"size range\" AS size_range, locality AS locality, country AS country, \"linkedin url\" AS linkedin_url, \"current employee estimate\" AS current_employee_estimate, \"total employee estimate\" AS total_employee_estimate FROM (SELECT * FROM (SELECT * FROM parquet_scan(\\'companies.parquet\\', (union_by_name = false), (hive_partitioning = false), (filename = false), (file_row_number = false), (binary_as_string = false))) AS parquet_18a144e912448aa2 WHERE (country IS NOT NULL)) AS parquet_18a144e912448aa2'"
      ]
     },
     "execution_count": 133,
     "metadata": {},
     "output_type": "execute_result"
    }
   ],
   "source": [
    "companies = db.sql(\"SELECT * FROM companies.parquet WHERE country is not NULL\")\n",
    "# or\n",
    "companies = db.read_parquet(\"companies.parquet\").filter(\"country is not NULL\")\n",
    "\n",
    "# Obtain column names and replace spaces with underscores\n",
    "names = companies.columns\n",
    "names = [(name, name.replace(\" \", \"_\").lower()) for name in names]\n",
    "# Rename first column to \"company_id\"\n",
    "names[0] = (\"Unnamed: 0\", \"company_id\")\n",
    "projection = \", \".join([f'\"{old}\" AS {new}' for old, new in names])\n",
    "companies = companies.project(projection)\n",
    "\n",
    "companies.sql_query()"
   ]
  },
  {
   "cell_type": "code",
   "execution_count": 134,
   "metadata": {},
   "outputs": [],
   "source": [
    "# add our TLD column\n",
    "#companies_tld = db.sql(\"SELECT split_part(domain, '.', -1) as TLD, * FROM companies\")\n",
    "companies = companies.query(\"self\", \"SELECT split_part(domain, '.', -1) as TLD, * FROM self\")"
   ]
  },
  {
   "cell_type": "code",
   "execution_count": 135,
   "metadata": {},
   "outputs": [
    {
     "data": {
      "text/plain": [
       "┌─────────┬────────────────────────────┬────────────────┬─────────────────┐\n",
       "│   TLD   │           domain           │    country     │ count(\"domain\") │\n",
       "│ varchar │          varchar           │    varchar     │      int64      │\n",
       "├─────────┼────────────────────────────┼────────────────┼─────────────────┤\n",
       "│ uk      │ crossfitmci.co.uk          │ united kingdom │               1 │\n",
       "│ com     │ acathospital.com           │ united states  │               1 │\n",
       "│ uk      │ youngandtalented.co.uk     │ united kingdom │               1 │\n",
       "│ de      │ macor.de                   │ germany        │               1 │\n",
       "│ fi      │ tripod.fi                  │ finland        │               1 │\n",
       "│ uk      │ edenshop.co.uk             │ united kingdom │               1 │\n",
       "│ com     │ donlawleyco.com            │ united states  │               1 │\n",
       "│ uk      │ justlistsapp.co.uk         │ united kingdom │               1 │\n",
       "│ be      │ beschutwonenkempen.be      │ belgium        │               1 │\n",
       "│ org     │ lincshia.org               │ united kingdom │               1 │\n",
       "│  ·      │      ·                     │   ·            │               · │\n",
       "│  ·      │      ·                     │   ·            │               · │\n",
       "│  ·      │      ·                     │   ·            │               · │\n",
       "│ com     │ eight-agency.com           │ russia         │               1 │\n",
       "│ com     │ wbtessentials.com          │ united states  │               1 │\n",
       "│ com     │ accratronics.com           │ united states  │               1 │\n",
       "│ com     │ habkamagazine.com          │ libya          │               1 │\n",
       "│ com     │ corporatesuitescalgary.com │ canada         │               1 │\n",
       "│ com     │ casadistefano.com          │ united kingdom │               1 │\n",
       "│ com     │ parkingkoi.com             │ bangladesh     │               1 │\n",
       "│ com     │ serracorp.com              │ united states  │               1 │\n",
       "│ in      │ claustra.in                │ india          │               1 │\n",
       "│ eu      │ createbot.eu               │ spain          │               1 │\n",
       "├─────────┴────────────────────────────┴────────────────┴─────────────────┤\n",
       "│ ? rows (>9999 rows, 20 shown)                                 4 columns │\n",
       "└─────────────────────────────────────────────────────────────────────────┘"
      ]
     },
     "execution_count": 135,
     "metadata": {},
     "output_type": "execute_result"
    }
   ],
   "source": [
    "db.sql(\"SELECT tld, domain, country, count(domain) FROM companies_tld GROUP BY tld, country, domain\")\n"
   ]
  },
  {
   "cell_type": "code",
   "execution_count": null,
   "metadata": {},
   "outputs": [],
   "source": []
  }
 ],
 "metadata": {
  "kernelspec": {
   "display_name": "python-data-patterns-K1jbwo01",
   "language": "python",
   "name": "python3"
  },
  "language_info": {
   "codemirror_mode": {
    "name": "ipython",
    "version": 3
   },
   "file_extension": ".py",
   "mimetype": "text/x-python",
   "name": "python",
   "nbconvert_exporter": "python",
   "pygments_lexer": "ipython3",
   "version": "3.10.6"
  }
 },
 "nbformat": 4,
 "nbformat_minor": 2
}
